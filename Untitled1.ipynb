{
 "cells": [
  {
   "cell_type": "code",
   "execution_count": null,
   "id": "260af06d",
   "metadata": {},
   "outputs": [],
   "source": [
    "import pandas as pd\n",
    "\n",
    "path = \"C:\\\\Users\\\\ADMIN\\\\Desktop\\\\sce\\\\GUI\\\\GUI\\\\train.csv\"\n",
    "data = pd.read_csv(path)\n",
    "# print(data)\n",
    "print(data.info())\n",
    "data.isnull()\n",
    "data.isnull().sum()\n",
    "import sklearn\n",
    "from sklearn.preprocessing import LabelEncoder\n",
    "le = LabelEncoder()\n",
    "data['job_n'] = le.fit_transform(data['job'])\n",
    "data['marital_n'] = le.fit_transform(data['marital'])\n",
    "data['education_n'] = le.fit_transform(data['education'])\n",
    "data['default_n'] = le.fit_transform(data['default'])\n",
    "data['housing_n'] = le.fit_transform(data['housing'])\n",
    "data['loan_n'] = le.fit_transform(data['loan'])\n",
    "data['contact_n'] = le.fit_transform(data['contact'])\n",
    "data['month_n'] = le.fit_transform(data['month'])\n",
    "data['poutcome_n'] = le.fit_transform(data['poutcome'])\n",
    "print(data)\n"
   ]
  }
 ],
 "metadata": {
  "kernelspec": {
   "display_name": "Python 3 (ipykernel)",
   "language": "python",
   "name": "python3"
  },
  "language_info": {
   "codemirror_mode": {
    "name": "ipython",
    "version": 3
   },
   "file_extension": ".py",
   "mimetype": "text/x-python",
   "name": "python",
   "nbconvert_exporter": "python",
   "pygments_lexer": "ipython3",
   "version": "3.9.12"
  }
 },
 "nbformat": 4,
 "nbformat_minor": 5
}
